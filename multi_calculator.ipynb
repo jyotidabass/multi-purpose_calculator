{
  "nbformat": 4,
  "nbformat_minor": 0,
  "metadata": {
    "colab": {
      "name": "multi_calculator.ipynb",
      "provenance": [],
      "authorship_tag": "ABX9TyOse/IlUbgWCPrWSEzAZJ3p",
      "include_colab_link": true
    },
    "kernelspec": {
      "name": "python3",
      "display_name": "Python 3"
    },
    "language_info": {
      "name": "python"
    }
  },
  "cells": [
    {
      "cell_type": "markdown",
      "metadata": {
        "id": "view-in-github",
        "colab_type": "text"
      },
      "source": [
        "<a href=\"https://colab.research.google.com/github/jyotidabass/multi-purpose_calculator/blob/main/multi_calculator.ipynb\" target=\"_parent\"><img src=\"https://colab.research.google.com/assets/colab-badge.svg\" alt=\"Open In Colab\"/></a>"
      ]
    },
    {
      "cell_type": "code",
      "execution_count": 3,
      "metadata": {
        "colab": {
          "base_uri": "https://localhost:8080/",
          "height": 408
        },
        "id": "uBFJaQVNcKJ1",
        "outputId": "998aa793-62ee-421e-94f4-abed4a874319"
      },
      "outputs": [
        {
          "name": "stdout",
          "output_type": "stream",
          "text": [
            "Pick one and press enter:\n",
            "1. Calculate calorie deficit or surplus over a period of time.\n",
            "2. Calculate basal metabolism using caloric consumption data measured over a period of time.\n",
            "3. Exit.\n",
            "1\n",
            "What was your starting weight (in lbs)? 23\n",
            "What was your final weight (in lbs)? 56\n",
            "How long did it take you to reach that weight (in days)? 3000\n",
            "Do you know how many calories you had per day, _on average_? 2000\n",
            "Your basal metabolism is around 1955.098 calories.\n",
            "On average, you have been at a 44.901999999999994 daily calorie surplus.\n",
            "\n",
            "You are using a time period longer than 31 days. For an average that more closely resembles the present, use a shorter time period.\n",
            "\n",
            "Would you like to try again? no\n"
          ]
        },
        {
          "output_type": "error",
          "ename": "SystemExit",
          "evalue": "ignored",
          "traceback": [
            "An exception has occurred, use %tb to see the full traceback.\n",
            "\u001b[0;31mSystemExit\u001b[0m\n"
          ]
        },
        {
          "output_type": "stream",
          "name": "stderr",
          "text": [
            "/usr/local/lib/python3.7/dist-packages/IPython/core/interactiveshell.py:2890: UserWarning: To exit: use 'exit', 'quit', or Ctrl-D.\n",
            "  warn(\"To exit: use 'exit', 'quit', or Ctrl-D.\", stacklevel=1)\n"
          ]
        }
      ],
      "source": [
        "import sys\n",
        "import decimal\n",
        "\n",
        "PY2 = sys.version_info[0] == 2\n",
        "if PY2:\n",
        "    raise Exception(\"Python2 is not supported. Please use Python3.x.\")\n",
        "\n",
        "fatCalories = 4082 # 1 lb of weight loss or gain corresponds to 4082 calories\n",
        "\n",
        "def main():\n",
        "\n",
        "    print(\"Pick one and press enter:\")\n",
        "    print(\"1. Calculate calorie deficit or surplus over a period of time.\")\n",
        "    print(\"2. Calculate basal metabolism using caloric consumption data measured over a period of time.\")\n",
        "    print(\"3. Exit.\")\n",
        "    menu = input()\n",
        "    if menu == \"1\":\n",
        "        first()\n",
        "    elif menu == \"2\":\n",
        "        second()\n",
        "    elif menu == \"3\":\n",
        "        sys.exit()\n",
        "    else:\n",
        "        raise valueError(\"You can only pick existing options.\")\n",
        "        main()\n",
        "\n",
        "def rerunCode():\n",
        "\n",
        "    rerunCode = input(\"Would you like to try again? \").lower()\n",
        "    if rerunCode == \"yes\":\n",
        "        main()\n",
        "    else:\n",
        "        sys.exit()\n",
        "\n",
        "def first():\n",
        "\n",
        "    initialWeightStr = input(\"What was your starting weight (in lbs)? \")\n",
        "    finalWeightStr = input(\"What was your final weight (in lbs)? \")\n",
        "    timePeriodStr = input(\"How long did it take you to reach that weight (in days)? \")\n",
        "    avgCalorieConsumptionStr = input(\"Do you know how many calories you had per day, _on average_? \")\n",
        "    initialWeight = float(initialWeightStr)\n",
        "    finalWeight = float(finalWeightStr)\n",
        "    timePeriod = int(timePeriodStr)\n",
        "    avgCalorieConsumption = int(avgCalorieConsumptionStr)\n",
        "\n",
        "\n",
        "    if (initialWeight and finalWeight and timePeriod) < 1:\n",
        "        raise ValueError(\"Values have to be positive nonzero integers.\")\n",
        "\n",
        "    weightDifference = (initialWeight - finalWeight) / timePeriod\n",
        "    deficit = fatCalories * weightDifference # number of calories in one pound of fat times the weightDifference\n",
        "\n",
        "    basalMetabolism = deficit + avgCalorieConsumption\n",
        "    \n",
        "    print(\"Your basal metabolism is around\", basalMetabolism, \"calories.\")\n",
        "\n",
        "    if weightDifference > 0:\n",
        "        print(\"On average, you have been at a\", deficit, \"daily calorie deficit.\\n\")\n",
        "    elif weightDifference == 0:\n",
        "        print(\"Move on to the next section of this calculator.\\n\")\n",
        "        main()\n",
        "    else:\n",
        "        print(\"On average, you have been at a\", -deficit, \"daily calorie surplus.\\n\")\n",
        "\n",
        "    if timePeriod > 31:\n",
        "        print(\"You are using a time period longer than 31 days. For an average that more closely resembles the present, use a shorter time period.\\n\")\n",
        "\n",
        "    rerunCode()\n",
        "\n",
        "def second():\n",
        "\n",
        "    print(\"Using a period of time where you logged your calories on a daily basis, enter...\")\n",
        "    input_startingWeightStr = input(\"an initial weight: \")\n",
        "    input_finalWeightStr = input(\"and a \\\"final\\\" weight: \")\n",
        "    input_startingWeight = float(input_startingWeightStr)\n",
        "    input_finalWeight = float(input_finalWeightStr)\n",
        "\n",
        "    input_caloriepoints = input(\"Enter how many calories you consumed over that period of time, separated by commas: \")\n",
        "    calorieList = input_caloriepoints.split(\",\")\n",
        "\n",
        "    if (input_startingWeight and input_finalWeight) < 1:\n",
        "        raise ValueError(\"Values have to be positive nonzero integers.\")\n",
        "\n",
        "    # take the average\n",
        "    sum = 0\n",
        "    for num in calorieList:\n",
        "        sum += int(num)\n",
        "\n",
        "    dayCount = len(calorieList)\n",
        "\n",
        "    if dayCount < 2:\n",
        "        raise ValueError(\"You need more data points.\")\n",
        "    elif 2 <= dayCount < 5:\n",
        "        average = sum / dayCount\n",
        "        print(\"It is recommended that you use at least 5 data points.\")\n",
        "    else:\n",
        "        average = sum / dayCount\n",
        "\n",
        "    weightDifference = (input_startingWeight - input_finalWeight) / dayCount\n",
        "    maintenanceCalories = weightDifference * fatCalories + average\n",
        "\n",
        "    print(\"At your current level of activity, your metabolism needs\", maintenanceCalories, \"calories per day to maintain your weight.\")\n",
        "    print(\"To lose around 1 pound a week, try to consume\", maintenanceCalories - 583, \"calories a day, or\", maintenanceCalories + 583, \"to gain 1 pound a week.\")\n",
        "    \n",
        "    rerunCode()\n",
        "\n",
        "main()"
      ]
    }
  ]
}